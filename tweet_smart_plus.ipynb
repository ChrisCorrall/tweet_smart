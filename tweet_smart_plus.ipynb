{
 "cells": [
  {
   "cell_type": "code",
   "execution_count": 1,
   "metadata": {
    "collapsed": true
   },
   "outputs": [],
   "source": [
    "from twython import Twython as tw\n",
    "from twython import TwythonError"
   ]
  },
  {
   "cell_type": "code",
   "execution_count": 2,
   "metadata": {
    "collapsed": true
   },
   "outputs": [],
   "source": [
    "# App keys and secrets stored as environment variables\n",
    "import os\n",
    "APP_KEY = os.environ.get('TWITTER_APP_KEY')\n",
    "APP_SECRET = os.environ.get('TWITTER_APP_SECRET')\n",
    "\n",
    "Access_Token = os.environ.get('TWITTER_ACCESS_TOKEN')\n",
    "Access_Secret = os.environ.get('TWITTER_ACCESS_SECRET')\n",
    "\n",
    "twitter = tw(APP_KEY, APP_SECRET, Access_Token, Access_Secret)"
   ]
  },
  {
   "cell_type": "code",
   "execution_count": 10,
   "metadata": {
    "collapsed": true
   },
   "outputs": [],
   "source": [
    "import pandas as pd"
   ]
  },
  {
   "cell_type": "code",
   "execution_count": 6,
   "metadata": {
    "collapsed": true
   },
   "outputs": [],
   "source": [
    "# Define a number of queries\n",
    "\n",
    "query_terms = {'bitcoin', 'altcoin', 'cryptocurrency', 'ethereum'}"
   ]
  },
  {
   "cell_type": "code",
   "execution_count": 7,
   "metadata": {
    "collapsed": true
   },
   "outputs": [],
   "source": [
    "# Then loop through queries\n",
    "q_collection = {}\n",
    "\n",
    "for x in query_terms:\n",
    "    q_collection[x] = {'q': x,  \n",
    "        'result_type': 'popular',\n",
    "        'count': 100,\n",
    "        'lang': 'en',\n",
    "        }"
   ]
  },
  {
   "cell_type": "code",
   "execution_count": 8,
   "metadata": {
    "collapsed": true
   },
   "outputs": [],
   "source": [
    "# Search those queries on Twitter and create a dictionary of responses\n",
    "dict_ = {'user': [], 'date': [], 'text': [], 'favorite_count': [], 'user_ID': []}  \n",
    "for a in query_terms:\n",
    "    for status in twitter.search(**q_collection[a])['statuses']:  \n",
    "        dict_['user'].append(status['user']['screen_name'])\n",
    "        dict_['date'].append(status['created_at'])\n",
    "        dict_['text'].append(status['text'])\n",
    "        dict_['favorite_count'].append(status['favorite_count'])\n",
    "        dict_['user_ID'].append(status['user'])\n",
    "        \n"
   ]
  },
  {
   "cell_type": "code",
   "execution_count": 11,
   "metadata": {
    "collapsed": true
   },
   "outputs": [],
   "source": [
    "df = pd.DataFrame(dict_)  \n",
    "df.sort_values(by='favorite_count', inplace=True, ascending=False)  "
   ]
  },
  {
   "cell_type": "code",
   "execution_count": null,
   "metadata": {
    "collapsed": true
   },
   "outputs": [],
   "source": [
    "# Store list for messing around with later\n",
    "import time\n",
    "timestr = time.strftime(\"%Y%m%d\")\n",
    "filename = 'tweets-'+timestr\n",
    "\n",
    "df.to_csv(os.path.join(path,filename))"
   ]
  },
  {
   "cell_type": "code",
   "execution_count": 12,
   "metadata": {
    "collapsed": true
   },
   "outputs": [],
   "source": [
    "#Remove duplicates to find individual users\n",
    "\n",
    "df = df.drop_duplicates(subset='user', keep='first', inplace=False)\n",
    "#df.head(20)"
   ]
  },
  {
   "cell_type": "code",
   "execution_count": 13,
   "metadata": {
    "collapsed": true
   },
   "outputs": [],
   "source": [
    "# Pull user names & ID's and store\n",
    "\n",
    "influencers = df.loc[:, 'user']"
   ]
  },
  {
   "cell_type": "code",
   "execution_count": 14,
   "metadata": {
    "collapsed": true
   },
   "outputs": [],
   "source": [
    "# Storing the newly found users in a Twitter list. \n",
    "\n",
    "my_user_id = 705469309\n",
    "my_list_name = 'tweet_smart_list'\n",
    "# Create dictionary of my lists\n",
    "my_lists_dict = twitter.show_owned_lists(user_id = my_user_id)  "
   ]
  },
  {
   "cell_type": "code",
   "execution_count": 15,
   "metadata": {
    "collapsed": true
   },
   "outputs": [],
   "source": [
    "#Split so that running code doesn't keep sending requests to Twitter.\n",
    "\n",
    "my_lists_df = pd.DataFrame(my_lists_dict['lists']) \n",
    "names = my_lists_df.loc[my_lists_df.name == my_list_name]\n",
    "my_list_id = int(names.id)\n",
    "list_slug = names.slug\n",
    "\n",
    "# Stores users in twitter list, printing any errors for debugging\n",
    "for user in influencers:\n",
    "    try:\n",
    "        twitter.add_list_member(list_id = my_list_id, screen_name=user)\n",
    "    except TwythonError as e:\n",
    "        print(e)"
   ]
  },
  {
   "cell_type": "code",
   "execution_count": null,
   "metadata": {
    "collapsed": true
   },
   "outputs": [],
   "source": []
  }
 ],
 "metadata": {
  "kernelspec": {
   "display_name": "Python 3",
   "language": "python",
   "name": "python3"
  },
  "language_info": {
   "codemirror_mode": {
    "name": "ipython",
    "version": 3
   },
   "file_extension": ".py",
   "mimetype": "text/x-python",
   "name": "python",
   "nbconvert_exporter": "python",
   "pygments_lexer": "ipython3",
   "version": "3.6.3"
  }
 },
 "nbformat": 4,
 "nbformat_minor": 2
}
