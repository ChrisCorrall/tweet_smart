{
 "cells": [
  {
   "cell_type": "code",
   "execution_count": 1,
   "metadata": {
    "collapsed": true
   },
   "outputs": [],
   "source": [
    "from twython import Twython as tw\n",
    "from twython import TwythonError"
   ]
  },
  {
   "cell_type": "code",
   "execution_count": 2,
   "metadata": {
    "collapsed": true
   },
   "outputs": [],
   "source": [
    "# App keys and secrets stored as environment variables\n",
    "import os\n",
    "APP_KEY = os.environ.get('TWITTER_APP_KEY')\n",
    "APP_SECRET = os.environ.get('TWITTER_APP_SECRET')\n",
    "\n",
    "Access_Token = os.environ.get('TWITTER_ACCESS_TOKEN')\n",
    "Access_Secret = os.environ.get('TWITTER_ACCESS_SECRET')\n",
    "\n",
    "twitter = tw(APP_KEY, APP_SECRET, Access_Token, Access_Secret)"
   ]
  },
  {
   "cell_type": "code",
   "execution_count": 3,
   "metadata": {
    "collapsed": true
   },
   "outputs": [],
   "source": [
    "import pandas as pd\n",
    "pd.set_option('display.max_colwidth', -1)"
   ]
  },
  {
   "cell_type": "code",
   "execution_count": 4,
   "metadata": {
    "collapsed": true
   },
   "outputs": [],
   "source": [
    "# Define a number of queries\n",
    "\n",
    "query_terms = {'bitcoin', 'altcoin', 'cryptocurrency', 'ethereum'}\n",
    "\n",
    "# Then loop through queries\n",
    "q_collection = {}\n",
    "\n",
    "for x in query_terms:\n",
    "    q_collection[x] = {'q': x,  \n",
    "        'result_type': 'popular',\n",
    "        'count': 100,\n",
    "        'lang': 'en',\n",
    "        }"
   ]
  },
  {
   "cell_type": "code",
   "execution_count": 5,
   "metadata": {
    "collapsed": true
   },
   "outputs": [],
   "source": [
    "# Search those queries on Twitter and create a dictionary of responses\n",
    "dict_ = {'user': [], 'date': [], 'text': [], 'favorite_count': [], 'user_ID': []}  \n",
    "for a in query_terms:\n",
    "    for status in twitter.search(**q_collection[a])['statuses']:  \n",
    "        dict_['user'].append(status['user']['screen_name'])\n",
    "        dict_['date'].append(status['created_at'])\n",
    "        dict_['text'].append(status['text'])\n",
    "        dict_['favorite_count'].append(status['favorite_count'])\n",
    "        dict_['user_ID'].append(status['user'])\n",
    "        \n",
    "# Make into a dataframe\n",
    "df = pd.DataFrame(dict_)  \n"
   ]
  },
  {
   "cell_type": "code",
   "execution_count": 6,
   "metadata": {},
   "outputs": [],
   "source": [
    "# Write dict_ to tweets.db. \n",
    "# Basically, want to save the data to a database before messing with it, so can go back at a later date.\n",
    "\n",
    "import sqlite3\n",
    "\n",
    "connection = sqlite3.connect('tweets.db')\n",
    "cursor = connection.cursor()\n",
    "\n",
    "query = \"INSERT INTO tweets VALUES (NULL,?,?,?,?)\"\n",
    "\n",
    "df_clean = df.drop('user_ID', axis = 1)\n",
    "data_for_query = [tuple(x) for x in df_clean.values]\n",
    "cursor.executemany(query, data_for_query)\n",
    "connection.commit()\n",
    "\n",
    "connection.close()"
   ]
  },
  {
   "cell_type": "code",
   "execution_count": 7,
   "metadata": {},
   "outputs": [],
   "source": [
    "# Remove duplicates to find individual users \n",
    "# Then pull user names & ID's\n",
    "\n",
    "df = df.drop_duplicates(subset='user', keep='first', inplace=False)\n",
    "influencers = df.loc[:, 'user']\n",
    "\n"
   ]
  },
  {
   "cell_type": "code",
   "execution_count": 8,
   "metadata": {
    "collapsed": true
   },
   "outputs": [],
   "source": [
    "# Store the newly found users in a Twitter list. \n",
    "\n",
    "my_user_id = 705469309\n",
    "my_list_name = 'tweet_smart_list' #list name - create this on Twitter\n",
    "# Create dictionary of my lists\n",
    "my_lists_dict = twitter.show_owned_lists(user_id = my_user_id)  "
   ]
  },
  {
   "cell_type": "code",
   "execution_count": 9,
   "metadata": {
    "collapsed": true
   },
   "outputs": [],
   "source": [
    "#Split so that running code doesn't keep sending requests to Twitter.\n",
    "\n",
    "my_lists_df = pd.DataFrame(my_lists_dict['lists']) \n",
    "names = my_lists_df.loc[my_lists_df.name == my_list_name]\n",
    "my_list_id = int(names.id)\n",
    "list_slug = names.slug\n",
    "\n",
    "# Stores users in twitter list, printing any errors for debugging\n",
    "for user in influencers:\n",
    "    try:\n",
    "        twitter.add_list_member(list_id = my_list_id, screen_name=user)\n",
    "    except TwythonError as e:\n",
    "        print(e)"
   ]
  }
 ],
 "metadata": {
  "kernelspec": {
   "display_name": "Python 3",
   "language": "python",
   "name": "python3"
  },
  "language_info": {
   "codemirror_mode": {
    "name": "ipython",
    "version": 3
   },
   "file_extension": ".py",
   "mimetype": "text/x-python",
   "name": "python",
   "nbconvert_exporter": "python",
   "pygments_lexer": "ipython3",
   "version": "3.6.3"
  }
 },
 "nbformat": 4,
 "nbformat_minor": 2
}
