{
 "cells": [
  {
   "cell_type": "code",
   "execution_count": 1,
   "metadata": {
    "collapsed": true
   },
   "outputs": [],
   "source": [
    "from twython import Twython as tw\n",
    "from twython import TwythonError"
   ]
  },
  {
   "cell_type": "code",
   "execution_count": 2,
   "metadata": {
    "collapsed": true
   },
   "outputs": [],
   "source": [
    "# App keys and secrets stored as environment variables\n",
    "import os\n",
    "APP_KEY = os.environ.get('TWITTER_APP_KEY')\n",
    "APP_SECRET = os.environ.get('TWITTER_APP_SECRET')\n",
    "\n",
    "Access_Token = os.environ.get('TWITTER_ACCESS_TOKEN')\n",
    "Access_Secret = os.environ.get('TWITTER_ACCESS_SECRET')\n",
    "\n",
    "twitter = tw(APP_KEY, APP_SECRET, Access_Token, Access_Secret)"
   ]
  },
  {
   "cell_type": "code",
   "execution_count": 3,
   "metadata": {
    "collapsed": true
   },
   "outputs": [],
   "source": [
    "import pandas as pd"
   ]
  },
  {
   "cell_type": "code",
   "execution_count": 4,
   "metadata": {
    "collapsed": true
   },
   "outputs": [],
   "source": [
    "# Define a query\n",
    "\n",
    "bitcoin_query = {'q': 'bitcoin',  \n",
    "        'result_type': 'popular',\n",
    "        'count': 100,\n",
    "        'lang': 'en',\n",
    "        }"
   ]
  },
  {
   "cell_type": "code",
   "execution_count": 5,
   "metadata": {},
   "outputs": [],
   "source": [
    "dict_ = {'user': [], 'date': [], 'text': [], 'favorite_count': [], 'user_ID': []}  \n",
    "for status in twitter.search(**bitcoin_query)['statuses']:  \n",
    "    dict_['user'].append(status['user']['screen_name'])\n",
    "    dict_['date'].append(status['created_at'])\n",
    "    dict_['text'].append(status['text'])\n",
    "    dict_['favorite_count'].append(status['favorite_count'])\n",
    "    dict_['user_ID'].append(status['user'])"
   ]
  },
  {
   "cell_type": "code",
   "execution_count": 6,
   "metadata": {
    "collapsed": true
   },
   "outputs": [],
   "source": [
    "df = pd.DataFrame(dict_)  \n",
    "df.sort_values(by='favorite_count', inplace=True, ascending=False)  "
   ]
  },
  {
   "cell_type": "code",
   "execution_count": 49,
   "metadata": {},
   "outputs": [],
   "source": [
    "# Store list for messing around with later\n",
    "import time\n",
    "timestr = time.strftime(\"%Y%m%d\")\n",
    "filename = 'tweets-'+timestr\n",
    "\n",
    "df.to_csv(os.path.join(path,filename))"
   ]
  },
  {
   "cell_type": "code",
   "execution_count": 7,
   "metadata": {},
   "outputs": [
    {
     "data": {
      "text/html": [
       "<div>\n",
       "<style>\n",
       "    .dataframe thead tr:only-child th {\n",
       "        text-align: right;\n",
       "    }\n",
       "\n",
       "    .dataframe thead th {\n",
       "        text-align: left;\n",
       "    }\n",
       "\n",
       "    .dataframe tbody tr th {\n",
       "        vertical-align: top;\n",
       "    }\n",
       "</style>\n",
       "<table border=\"1\" class=\"dataframe\">\n",
       "  <thead>\n",
       "    <tr style=\"text-align: right;\">\n",
       "      <th></th>\n",
       "      <th>date</th>\n",
       "      <th>favorite_count</th>\n",
       "      <th>text</th>\n",
       "      <th>user</th>\n",
       "      <th>user_ID</th>\n",
       "    </tr>\n",
       "  </thead>\n",
       "  <tbody>\n",
       "    <tr>\n",
       "      <th>1</th>\n",
       "      <td>Mon Dec 10 21:13:44 +0000 2018</td>\n",
       "      <td>2229</td>\n",
       "      <td>The banks want Bitcoin to fail.\\n\\nNever forge...</td>\n",
       "      <td>APompliano</td>\n",
       "      <td>{'id': 339061487, 'id_str': '339061487', 'name...</td>\n",
       "    </tr>\n",
       "    <tr>\n",
       "      <th>3</th>\n",
       "      <td>Mon Dec 10 21:45:10 +0000 2018</td>\n",
       "      <td>525</td>\n",
       "      <td>You will never fully understand the power and ...</td>\n",
       "      <td>getongab</td>\n",
       "      <td>{'id': 767960339547774976, 'id_str': '76796033...</td>\n",
       "    </tr>\n",
       "    <tr>\n",
       "      <th>2</th>\n",
       "      <td>Sun Dec 09 19:59:01 +0000 2018</td>\n",
       "      <td>505</td>\n",
       "      <td>Just published: \"Bitcoin &amp;amp; Ethereum: Price...</td>\n",
       "      <td>cburniske</td>\n",
       "      <td>{'id': 710463119886262272, 'id_str': '71046311...</td>\n",
       "    </tr>\n",
       "    <tr>\n",
       "      <th>5</th>\n",
       "      <td>Mon Dec 10 15:50:14 +0000 2018</td>\n",
       "      <td>182</td>\n",
       "      <td>“Fundamentally, for this thing to work, it can...</td>\n",
       "      <td>TDANetwork</td>\n",
       "      <td>{'id': 872519322077470721, 'id_str': '87251932...</td>\n",
       "    </tr>\n",
       "    <tr>\n",
       "      <th>7</th>\n",
       "      <td>Mon Dec 10 11:24:56 +0000 2018</td>\n",
       "      <td>174</td>\n",
       "      <td>Bitcoin still has the potential to drop toward...</td>\n",
       "      <td>coindesk</td>\n",
       "      <td>{'id': 1333467482, 'id_str': '1333467482', 'na...</td>\n",
       "    </tr>\n",
       "  </tbody>\n",
       "</table>\n",
       "</div>"
      ],
      "text/plain": [
       "                             date  favorite_count  \\\n",
       "1  Mon Dec 10 21:13:44 +0000 2018            2229   \n",
       "3  Mon Dec 10 21:45:10 +0000 2018             525   \n",
       "2  Sun Dec 09 19:59:01 +0000 2018             505   \n",
       "5  Mon Dec 10 15:50:14 +0000 2018             182   \n",
       "7  Mon Dec 10 11:24:56 +0000 2018             174   \n",
       "\n",
       "                                                text        user  \\\n",
       "1  The banks want Bitcoin to fail.\\n\\nNever forge...  APompliano   \n",
       "3  You will never fully understand the power and ...    getongab   \n",
       "2  Just published: \"Bitcoin &amp; Ethereum: Price...   cburniske   \n",
       "5  “Fundamentally, for this thing to work, it can...  TDANetwork   \n",
       "7  Bitcoin still has the potential to drop toward...    coindesk   \n",
       "\n",
       "                                             user_ID  \n",
       "1  {'id': 339061487, 'id_str': '339061487', 'name...  \n",
       "3  {'id': 767960339547774976, 'id_str': '76796033...  \n",
       "2  {'id': 710463119886262272, 'id_str': '71046311...  \n",
       "5  {'id': 872519322077470721, 'id_str': '87251932...  \n",
       "7  {'id': 1333467482, 'id_str': '1333467482', 'na...  "
      ]
     },
     "execution_count": 7,
     "metadata": {},
     "output_type": "execute_result"
    }
   ],
   "source": [
    "# Remove duplicates to find individual users\n",
    "\n",
    "df = df.drop_duplicates(subset='user', keep='first', inplace=False)\n",
    "df.head()"
   ]
  },
  {
   "cell_type": "code",
   "execution_count": 8,
   "metadata": {
    "collapsed": true
   },
   "outputs": [],
   "source": [
    "# Pull user names & ID's and store\n",
    "\n",
    "influencers = df.loc[:, 'user']"
   ]
  },
  {
   "cell_type": "code",
   "execution_count": 9,
   "metadata": {
    "collapsed": true
   },
   "outputs": [],
   "source": [
    "# Storing the newly found users in a list. \n",
    "\n",
    "my_user_id = 705469309\n",
    "my_list_name = 'tweet_smart_list'\n",
    "# Create dictionary of my lists\n",
    "my_lists_dict = twitter.show_owned_lists(user_id = my_user_id) \n",
    "#Split so that running code doesn't keep sending requests to Twitter. "
   ]
  },
  {
   "cell_type": "code",
   "execution_count": 10,
   "metadata": {
    "collapsed": true
   },
   "outputs": [],
   "source": [
    "my_lists_df = pd.DataFrame(my_lists_dict['lists']) \n",
    "names = my_lists_df.loc[my_lists_df.name == my_list_name]\n",
    "my_list_id = int(names.id)\n",
    "list_slug = names.slug"
   ]
  },
  {
   "cell_type": "code",
   "execution_count": 11,
   "metadata": {
    "collapsed": true
   },
   "outputs": [],
   "source": [
    "for user in influencers:\n",
    "    try:\n",
    "        twitter.add_list_member(list_id = my_list_id, screen_name=user)\n",
    "    except TwythonError as e:\n",
    "        print(e)\n",
    "\n",
    "        "
   ]
  }
 ],
 "metadata": {
  "kernelspec": {
   "display_name": "Python 3",
   "language": "python",
   "name": "python3"
  },
  "language_info": {
   "codemirror_mode": {
    "name": "ipython",
    "version": 3
   },
   "file_extension": ".py",
   "mimetype": "text/x-python",
   "name": "python",
   "nbconvert_exporter": "python",
   "pygments_lexer": "ipython3",
   "version": "3.6.3"
  }
 },
 "nbformat": 4,
 "nbformat_minor": 2
}
